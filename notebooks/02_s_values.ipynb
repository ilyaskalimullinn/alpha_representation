{
 "cells": [
  {
   "cell_type": "markdown",
   "id": "9ef5d6d1",
   "metadata": {},
   "source": [
    "# Величины S\n",
    "\n",
    "$$\n",
    "\\begin{align*}\n",
    "    S_U(x;\\sigma^{mid})&=\\frac{1}{3}\n",
    "\\sum_{t\\in\\mathbb{F}_3}\n",
    "\\sum_{\\sigma^{in}\\in\\{-1,1\\}^{V^{in}}}\n",
    "\\chi([x;t]^T P^{in}(\\sigma^{in};\\sigma^{mid})[x;t])\\\\\n",
    "\n",
    "S_k(x;\\sigma^{mid})&=\\sum_{\\sigma^{in}\\in\\{-1,1\\}^{V^{in}_k}}\n",
    "    \\chi(x^T P_k^{in}(\\sigma^{in};\\sigma^{mid})x)\n",
    "\\end{align*}\n",
    "$$\n",
    "\n",
    "Нужно выразить значения $S_U$ через $S_k$."
   ]
  },
  {
   "cell_type": "code",
   "execution_count": 16,
   "id": "000ea7a3",
   "metadata": {},
   "outputs": [],
   "source": [
    "import os\n",
    "\n",
    "import pandas as pd\n",
    "import numpy as np\n",
    "import sympy as sp\n",
    "import matplotlib.pyplot as plt\n",
    "import seaborn as sns\n",
    "from sklearn.linear_model import LinearRegression\n",
    "\n",
    "\n",
    "sns.set_style(\"darkgrid\")\n",
    "sns.set_context(\"notebook\")\n",
    "sns.set_palette(\"viridis\")"
   ]
  },
  {
   "cell_type": "markdown",
   "id": "614618f1",
   "metadata": {},
   "source": [
    "## 1. Download\n",
    "\n",
    "Скачаем все файлы с Гугл диска (либо можно пропустить и собрать данные самим)"
   ]
  },
  {
   "cell_type": "code",
   "execution_count": 2,
   "id": "ba372055",
   "metadata": {},
   "outputs": [],
   "source": [
    "data_dir = \"../assets/data\"\n",
    "os.makedirs(data_dir, exist_ok=True)\n",
    "\n",
    "# Uncomment to download data\n",
    "\n",
    "# !pip install gdown -q\n",
    "# import gdown\n",
    "# gdown.download_folder(\n",
    "#     url=\"https://drive.google.com/drive/folders/1aWnVLwRHkxQDhAz86DHr9jipaShbzTHt?usp=drive_link\",\n",
    "#     output=data_dir\n",
    "# )"
   ]
  },
  {
   "cell_type": "markdown",
   "id": "78049909",
   "metadata": {},
   "source": [
    "## 2. Read data"
   ]
  },
  {
   "cell_type": "code",
   "execution_count": 3,
   "id": "06ec1a27",
   "metadata": {},
   "outputs": [
    {
     "data": {
      "application/vnd.microsoft.datawrangler.viewer.v0+json": {
       "columns": [
        {
         "name": "index",
         "rawType": "int64",
         "type": "integer"
        },
        {
         "name": "sigma_mid",
         "rawType": "object",
         "type": "string"
        },
        {
         "name": "x",
         "rawType": "object",
         "type": "string"
        },
        {
         "name": "S_U",
         "rawType": "object",
         "type": "string"
        },
        {
         "name": "S_A",
         "rawType": "object",
         "type": "string"
        },
        {
         "name": "S_B",
         "rawType": "object",
         "type": "string"
        },
        {
         "name": "S_C",
         "rawType": "object",
         "type": "string"
        },
        {
         "name": "S_D",
         "rawType": "object",
         "type": "string"
        },
        {
         "name": "S_E",
         "rawType": "object",
         "type": "string"
        }
       ],
       "ref": "a0d7a812-1215-4967-b5c9-e3f96d8301f6",
       "rows": [
        [
         "0",
         "[-1, -1, -1, -1, -1]",
         "[-1, -1, -1, -1, -1]",
         "-15 + 15*sqrt(3)*I",
         "-4 + 4*sqrt(3)*I",
         "-4 + 4*sqrt(3)*I",
         "-4 + 4*sqrt(3)*I",
         "-4 + 4*sqrt(3)*I",
         "-4 + 4*sqrt(3)*I"
        ],
        [
         "1",
         "[-1, -1, -1, -1, -1]",
         "[-1, -1, -1, -1, 0]",
         "-3/2 + 3*sqrt(3)*I/2",
         "-1 + sqrt(3)*I",
         "2 - 2*sqrt(3)*I",
         "1/2 - sqrt(3)*I/2",
         "2 - 2*sqrt(3)*I",
         "-1 + sqrt(3)*I"
        ],
        [
         "2",
         "[-1, -1, -1, -1, -1]",
         "[-1, -1, -1, -1, 1]",
         "3",
         "2",
         "-4",
         "-1",
         "-4",
         "2"
        ],
        [
         "3",
         "[-1, -1, -1, -1, -1]",
         "[-1, -1, -1, 0, -1]",
         "-3/2 + 3*sqrt(3)*I/2",
         "2 - 2*sqrt(3)*I",
         "1/2 - sqrt(3)*I/2",
         "2 - 2*sqrt(3)*I",
         "-1 + sqrt(3)*I",
         "-1 + sqrt(3)*I"
        ],
        [
         "4",
         "[-1, -1, -1, -1, -1]",
         "[-1, -1, -1, 0, 0]",
         "3 + 3*sqrt(3)*I",
         "-1 - sqrt(3)*I",
         "1/2 + sqrt(3)*I/2",
         "1/2 + sqrt(3)*I/2",
         "-1 - sqrt(3)*I",
         "1/2 + sqrt(3)*I/2"
        ]
       ],
       "shape": {
        "columns": 8,
        "rows": 5
       }
      },
      "text/html": [
       "<div>\n",
       "<style scoped>\n",
       "    .dataframe tbody tr th:only-of-type {\n",
       "        vertical-align: middle;\n",
       "    }\n",
       "\n",
       "    .dataframe tbody tr th {\n",
       "        vertical-align: top;\n",
       "    }\n",
       "\n",
       "    .dataframe thead th {\n",
       "        text-align: right;\n",
       "    }\n",
       "</style>\n",
       "<table border=\"1\" class=\"dataframe\">\n",
       "  <thead>\n",
       "    <tr style=\"text-align: right;\">\n",
       "      <th></th>\n",
       "      <th>sigma_mid</th>\n",
       "      <th>x</th>\n",
       "      <th>S_U</th>\n",
       "      <th>S_A</th>\n",
       "      <th>S_B</th>\n",
       "      <th>S_C</th>\n",
       "      <th>S_D</th>\n",
       "      <th>S_E</th>\n",
       "    </tr>\n",
       "  </thead>\n",
       "  <tbody>\n",
       "    <tr>\n",
       "      <th>0</th>\n",
       "      <td>[-1, -1, -1, -1, -1]</td>\n",
       "      <td>[-1, -1, -1, -1, -1]</td>\n",
       "      <td>-15 + 15*sqrt(3)*I</td>\n",
       "      <td>-4 + 4*sqrt(3)*I</td>\n",
       "      <td>-4 + 4*sqrt(3)*I</td>\n",
       "      <td>-4 + 4*sqrt(3)*I</td>\n",
       "      <td>-4 + 4*sqrt(3)*I</td>\n",
       "      <td>-4 + 4*sqrt(3)*I</td>\n",
       "    </tr>\n",
       "    <tr>\n",
       "      <th>1</th>\n",
       "      <td>[-1, -1, -1, -1, -1]</td>\n",
       "      <td>[-1, -1, -1, -1, 0]</td>\n",
       "      <td>-3/2 + 3*sqrt(3)*I/2</td>\n",
       "      <td>-1 + sqrt(3)*I</td>\n",
       "      <td>2 - 2*sqrt(3)*I</td>\n",
       "      <td>1/2 - sqrt(3)*I/2</td>\n",
       "      <td>2 - 2*sqrt(3)*I</td>\n",
       "      <td>-1 + sqrt(3)*I</td>\n",
       "    </tr>\n",
       "    <tr>\n",
       "      <th>2</th>\n",
       "      <td>[-1, -1, -1, -1, -1]</td>\n",
       "      <td>[-1, -1, -1, -1, 1]</td>\n",
       "      <td>3</td>\n",
       "      <td>2</td>\n",
       "      <td>-4</td>\n",
       "      <td>-1</td>\n",
       "      <td>-4</td>\n",
       "      <td>2</td>\n",
       "    </tr>\n",
       "    <tr>\n",
       "      <th>3</th>\n",
       "      <td>[-1, -1, -1, -1, -1]</td>\n",
       "      <td>[-1, -1, -1, 0, -1]</td>\n",
       "      <td>-3/2 + 3*sqrt(3)*I/2</td>\n",
       "      <td>2 - 2*sqrt(3)*I</td>\n",
       "      <td>1/2 - sqrt(3)*I/2</td>\n",
       "      <td>2 - 2*sqrt(3)*I</td>\n",
       "      <td>-1 + sqrt(3)*I</td>\n",
       "      <td>-1 + sqrt(3)*I</td>\n",
       "    </tr>\n",
       "    <tr>\n",
       "      <th>4</th>\n",
       "      <td>[-1, -1, -1, -1, -1]</td>\n",
       "      <td>[-1, -1, -1, 0, 0]</td>\n",
       "      <td>3 + 3*sqrt(3)*I</td>\n",
       "      <td>-1 - sqrt(3)*I</td>\n",
       "      <td>1/2 + sqrt(3)*I/2</td>\n",
       "      <td>1/2 + sqrt(3)*I/2</td>\n",
       "      <td>-1 - sqrt(3)*I</td>\n",
       "      <td>1/2 + sqrt(3)*I/2</td>\n",
       "    </tr>\n",
       "  </tbody>\n",
       "</table>\n",
       "</div>"
      ],
      "text/plain": [
       "              sigma_mid                     x                   S_U  \\\n",
       "0  [-1, -1, -1, -1, -1]  [-1, -1, -1, -1, -1]    -15 + 15*sqrt(3)*I   \n",
       "1  [-1, -1, -1, -1, -1]   [-1, -1, -1, -1, 0]  -3/2 + 3*sqrt(3)*I/2   \n",
       "2  [-1, -1, -1, -1, -1]   [-1, -1, -1, -1, 1]                     3   \n",
       "3  [-1, -1, -1, -1, -1]   [-1, -1, -1, 0, -1]  -3/2 + 3*sqrt(3)*I/2   \n",
       "4  [-1, -1, -1, -1, -1]    [-1, -1, -1, 0, 0]       3 + 3*sqrt(3)*I   \n",
       "\n",
       "                S_A                S_B                S_C               S_D  \\\n",
       "0  -4 + 4*sqrt(3)*I   -4 + 4*sqrt(3)*I   -4 + 4*sqrt(3)*I  -4 + 4*sqrt(3)*I   \n",
       "1    -1 + sqrt(3)*I    2 - 2*sqrt(3)*I  1/2 - sqrt(3)*I/2   2 - 2*sqrt(3)*I   \n",
       "2                 2                 -4                 -1                -4   \n",
       "3   2 - 2*sqrt(3)*I  1/2 - sqrt(3)*I/2    2 - 2*sqrt(3)*I    -1 + sqrt(3)*I   \n",
       "4    -1 - sqrt(3)*I  1/2 + sqrt(3)*I/2  1/2 + sqrt(3)*I/2    -1 - sqrt(3)*I   \n",
       "\n",
       "                 S_E  \n",
       "0   -4 + 4*sqrt(3)*I  \n",
       "1     -1 + sqrt(3)*I  \n",
       "2                  2  \n",
       "3     -1 + sqrt(3)*I  \n",
       "4  1/2 + sqrt(3)*I/2  "
      ]
     },
     "execution_count": 3,
     "metadata": {},
     "output_type": "execute_result"
    }
   ],
   "source": [
    "data = pd.read_csv(os.path.join(data_dir, \"s_values.csv\"))\n",
    "data.head()"
   ]
  },
  {
   "cell_type": "code",
   "execution_count": 4,
   "id": "964229a8",
   "metadata": {},
   "outputs": [
    {
     "name": "stdout",
     "output_type": "stream",
     "text": [
      "S_U\n",
      "S_A\n",
      "S_B\n",
      "S_C\n",
      "S_D\n",
      "S_E\n"
     ]
    }
   ],
   "source": [
    "for col in [\"S_U\", \"S_A\", \"S_B\", \"S_C\", \"S_D\", \"S_E\"]:\n",
    "    data[col] = data[col].apply(sp.nsimplify)\n",
    "    print(col)"
   ]
  },
  {
   "cell_type": "markdown",
   "id": "f174e891",
   "metadata": {},
   "source": [
    "## 3. ML"
   ]
  },
  {
   "cell_type": "code",
   "execution_count": 12,
   "id": "af599609",
   "metadata": {},
   "outputs": [
    {
     "name": "stdout",
     "output_type": "stream",
     "text": [
      "(2051, 8)\n"
     ]
    },
    {
     "data": {
      "application/vnd.microsoft.datawrangler.viewer.v0+json": {
       "columns": [
        {
         "name": "index",
         "rawType": "int64",
         "type": "integer"
        },
        {
         "name": "sigma_mid",
         "rawType": "object",
         "type": "string"
        },
        {
         "name": "x",
         "rawType": "object",
         "type": "string"
        },
        {
         "name": "S_U",
         "rawType": "object",
         "type": "unknown"
        },
        {
         "name": "S_A",
         "rawType": "object",
         "type": "unknown"
        },
        {
         "name": "S_B",
         "rawType": "object",
         "type": "unknown"
        },
        {
         "name": "S_C",
         "rawType": "object",
         "type": "unknown"
        },
        {
         "name": "S_D",
         "rawType": "object",
         "type": "unknown"
        },
        {
         "name": "S_E",
         "rawType": "object",
         "type": "unknown"
        }
       ],
       "ref": "e32c40bb-1cc6-4430-9f3f-4eada27ff3cc",
       "rows": [
        [
         "0",
         "[-1, -1, -1, -1, -1]",
         "[-1, -1, -1, -1, -1]",
         "-15 + 15*sqrt(3)*I",
         "-4 + 4*sqrt(3)*I",
         "-4 + 4*sqrt(3)*I",
         "-4 + 4*sqrt(3)*I",
         "-4 + 4*sqrt(3)*I",
         "-4 + 4*sqrt(3)*I"
        ],
        [
         "1",
         "[-1, -1, -1, -1, -1]",
         "[-1, -1, -1, -1, 0]",
         "-3/2 + 3*sqrt(3)*I/2",
         "-1 + sqrt(3)*I",
         "2 - 2*sqrt(3)*I",
         "1/2 - sqrt(3)*I/2",
         "2 - 2*sqrt(3)*I",
         "-1 + sqrt(3)*I"
        ],
        [
         "2",
         "[-1, -1, -1, -1, -1]",
         "[-1, -1, -1, -1, 1]",
         "3",
         "2",
         "-4",
         "-1",
         "-4",
         "2"
        ],
        [
         "3",
         "[-1, -1, -1, -1, -1]",
         "[-1, -1, -1, 0, -1]",
         "-3/2 + 3*sqrt(3)*I/2",
         "2 - 2*sqrt(3)*I",
         "1/2 - sqrt(3)*I/2",
         "2 - 2*sqrt(3)*I",
         "-1 + sqrt(3)*I",
         "-1 + sqrt(3)*I"
        ],
        [
         "4",
         "[-1, -1, -1, -1, -1]",
         "[-1, -1, -1, 0, 0]",
         "3 + 3*sqrt(3)*I",
         "-1 - sqrt(3)*I",
         "1/2 + sqrt(3)*I/2",
         "1/2 + sqrt(3)*I/2",
         "-1 - sqrt(3)*I",
         "1/2 + sqrt(3)*I/2"
        ]
       ],
       "shape": {
        "columns": 8,
        "rows": 5
       }
      },
      "text/html": [
       "<div>\n",
       "<style scoped>\n",
       "    .dataframe tbody tr th:only-of-type {\n",
       "        vertical-align: middle;\n",
       "    }\n",
       "\n",
       "    .dataframe tbody tr th {\n",
       "        vertical-align: top;\n",
       "    }\n",
       "\n",
       "    .dataframe thead th {\n",
       "        text-align: right;\n",
       "    }\n",
       "</style>\n",
       "<table border=\"1\" class=\"dataframe\">\n",
       "  <thead>\n",
       "    <tr style=\"text-align: right;\">\n",
       "      <th></th>\n",
       "      <th>sigma_mid</th>\n",
       "      <th>x</th>\n",
       "      <th>S_U</th>\n",
       "      <th>S_A</th>\n",
       "      <th>S_B</th>\n",
       "      <th>S_C</th>\n",
       "      <th>S_D</th>\n",
       "      <th>S_E</th>\n",
       "    </tr>\n",
       "  </thead>\n",
       "  <tbody>\n",
       "    <tr>\n",
       "      <th>0</th>\n",
       "      <td>[-1, -1, -1, -1, -1]</td>\n",
       "      <td>[-1, -1, -1, -1, -1]</td>\n",
       "      <td>-15 + 15*sqrt(3)*I</td>\n",
       "      <td>-4 + 4*sqrt(3)*I</td>\n",
       "      <td>-4 + 4*sqrt(3)*I</td>\n",
       "      <td>-4 + 4*sqrt(3)*I</td>\n",
       "      <td>-4 + 4*sqrt(3)*I</td>\n",
       "      <td>-4 + 4*sqrt(3)*I</td>\n",
       "    </tr>\n",
       "    <tr>\n",
       "      <th>1</th>\n",
       "      <td>[-1, -1, -1, -1, -1]</td>\n",
       "      <td>[-1, -1, -1, -1, 0]</td>\n",
       "      <td>-3/2 + 3*sqrt(3)*I/2</td>\n",
       "      <td>-1 + sqrt(3)*I</td>\n",
       "      <td>2 - 2*sqrt(3)*I</td>\n",
       "      <td>1/2 - sqrt(3)*I/2</td>\n",
       "      <td>2 - 2*sqrt(3)*I</td>\n",
       "      <td>-1 + sqrt(3)*I</td>\n",
       "    </tr>\n",
       "    <tr>\n",
       "      <th>2</th>\n",
       "      <td>[-1, -1, -1, -1, -1]</td>\n",
       "      <td>[-1, -1, -1, -1, 1]</td>\n",
       "      <td>3</td>\n",
       "      <td>2</td>\n",
       "      <td>-4</td>\n",
       "      <td>-1</td>\n",
       "      <td>-4</td>\n",
       "      <td>2</td>\n",
       "    </tr>\n",
       "    <tr>\n",
       "      <th>3</th>\n",
       "      <td>[-1, -1, -1, -1, -1]</td>\n",
       "      <td>[-1, -1, -1, 0, -1]</td>\n",
       "      <td>-3/2 + 3*sqrt(3)*I/2</td>\n",
       "      <td>2 - 2*sqrt(3)*I</td>\n",
       "      <td>1/2 - sqrt(3)*I/2</td>\n",
       "      <td>2 - 2*sqrt(3)*I</td>\n",
       "      <td>-1 + sqrt(3)*I</td>\n",
       "      <td>-1 + sqrt(3)*I</td>\n",
       "    </tr>\n",
       "    <tr>\n",
       "      <th>4</th>\n",
       "      <td>[-1, -1, -1, -1, -1]</td>\n",
       "      <td>[-1, -1, -1, 0, 0]</td>\n",
       "      <td>3 + 3*sqrt(3)*I</td>\n",
       "      <td>-1 - sqrt(3)*I</td>\n",
       "      <td>1/2 + sqrt(3)*I/2</td>\n",
       "      <td>1/2 + sqrt(3)*I/2</td>\n",
       "      <td>-1 - sqrt(3)*I</td>\n",
       "      <td>1/2 + sqrt(3)*I/2</td>\n",
       "    </tr>\n",
       "  </tbody>\n",
       "</table>\n",
       "</div>"
      ],
      "text/plain": [
       "              sigma_mid                     x                   S_U  \\\n",
       "0  [-1, -1, -1, -1, -1]  [-1, -1, -1, -1, -1]    -15 + 15*sqrt(3)*I   \n",
       "1  [-1, -1, -1, -1, -1]   [-1, -1, -1, -1, 0]  -3/2 + 3*sqrt(3)*I/2   \n",
       "2  [-1, -1, -1, -1, -1]   [-1, -1, -1, -1, 1]                     3   \n",
       "3  [-1, -1, -1, -1, -1]   [-1, -1, -1, 0, -1]  -3/2 + 3*sqrt(3)*I/2   \n",
       "4  [-1, -1, -1, -1, -1]    [-1, -1, -1, 0, 0]       3 + 3*sqrt(3)*I   \n",
       "\n",
       "                S_A                S_B                S_C               S_D  \\\n",
       "0  -4 + 4*sqrt(3)*I   -4 + 4*sqrt(3)*I   -4 + 4*sqrt(3)*I  -4 + 4*sqrt(3)*I   \n",
       "1    -1 + sqrt(3)*I    2 - 2*sqrt(3)*I  1/2 - sqrt(3)*I/2   2 - 2*sqrt(3)*I   \n",
       "2                 2                 -4                 -1                -4   \n",
       "3   2 - 2*sqrt(3)*I  1/2 - sqrt(3)*I/2    2 - 2*sqrt(3)*I    -1 + sqrt(3)*I   \n",
       "4    -1 - sqrt(3)*I  1/2 + sqrt(3)*I/2  1/2 + sqrt(3)*I/2    -1 - sqrt(3)*I   \n",
       "\n",
       "                 S_E  \n",
       "0   -4 + 4*sqrt(3)*I  \n",
       "1     -1 + sqrt(3)*I  \n",
       "2                  2  \n",
       "3     -1 + sqrt(3)*I  \n",
       "4  1/2 + sqrt(3)*I/2  "
      ]
     },
     "execution_count": 12,
     "metadata": {},
     "output_type": "execute_result"
    }
   ],
   "source": [
    "data = data.drop_duplicates([\"S_U\", \"S_A\", \"S_B\", \"S_C\", \"S_D\", \"S_E\"])\n",
    "print(data.shape)\n",
    "data.head()"
   ]
  },
  {
   "cell_type": "code",
   "execution_count": 13,
   "id": "ae9478d2",
   "metadata": {},
   "outputs": [
    {
     "data": {
      "text/plain": [
       "dtype('complex128')"
      ]
     },
     "execution_count": 13,
     "metadata": {},
     "output_type": "execute_result"
    }
   ],
   "source": [
    "X = np.array(data[[\"S_A\", \"S_B\", \"S_C\", \"S_D\", \"S_E\"]], dtype=np.complex_)\n",
    "X.dtype"
   ]
  },
  {
   "cell_type": "code",
   "execution_count": 14,
   "id": "b592c920",
   "metadata": {},
   "outputs": [
    {
     "data": {
      "text/plain": [
       "array([-15. +25.98076211j,  -1.5 +2.59807621j,   3.  +0.j        ,\n",
       "        -1.5 +2.59807621j,   3.  +5.19615242j])"
      ]
     },
     "execution_count": 14,
     "metadata": {},
     "output_type": "execute_result"
    }
   ],
   "source": [
    "y = np.array(data[\"S_U\"], dtype=np.complex_)\n",
    "y[:5]"
   ]
  },
  {
   "cell_type": "code",
   "execution_count": 15,
   "id": "2b34588f",
   "metadata": {},
   "outputs": [
    {
     "data": {
      "text/plain": [
       "(2051, 15)"
      ]
     },
     "execution_count": 15,
     "metadata": {},
     "output_type": "execute_result"
    }
   ],
   "source": [
    "def create_poly_features(X: np.array, power: int = 2) -> np.array:\n",
    "    res = [X]\n",
    "    for p in range(2, power+1):\n",
    "        res.append(X ** p)\n",
    "    return np.hstack(res)\n",
    "\n",
    "create_poly_features(X, power=3).shape"
   ]
  },
  {
   "cell_type": "code",
   "execution_count": 18,
   "id": "bd1b9c1b",
   "metadata": {},
   "outputs": [],
   "source": [
    "def calc_loss(y_true, y_pred):\n",
    "    return np.abs(y_true - y_pred).mean()"
   ]
  },
  {
   "cell_type": "markdown",
   "id": "1fa06a73",
   "metadata": {},
   "source": [
    "### 1. Поделим на две части"
   ]
  },
  {
   "cell_type": "code",
   "execution_count": 20,
   "id": "7468073a",
   "metadata": {},
   "outputs": [
    {
     "name": "stdout",
     "output_type": "stream",
     "text": [
      "Poly: 1; loss: 8.115713787509007\n",
      "Poly: 2; loss: 7.93856969131932\n",
      "Poly: 3; loss: 7.762260703723982\n",
      "Poly: 4; loss: 7.57064395814136\n",
      "Poly: 5; loss: 6.902653756654313\n",
      "Poly: 6; loss: 6.9026537566547095\n",
      "Poly: 7; loss: 6.728744414571163\n",
      "Poly: 8; loss: 6.728744414638822\n"
     ]
    }
   ],
   "source": [
    "def calc_experiment_sklearn(X, y, poly_power: int=5):\n",
    "    X_real = X.real\n",
    "    X_imag = X.imag\n",
    "    y_real = y.real\n",
    "    y_imag = y.imag\n",
    "\n",
    "    X_real = create_poly_features(X_real, poly_power)\n",
    "    X_imag = create_poly_features(X_imag, poly_power)\n",
    "\n",
    "    lr1 = LinearRegression().fit(X_real, y_real)\n",
    "    lr2 = LinearRegression().fit(X_imag, y_imag)\n",
    "\n",
    "    pred1 = lr1.predict(X_real)\n",
    "    pred2 = lr2.predict(X_imag)\n",
    "    \n",
    "    pred = pred1 + pred2 * 1j\n",
    "    \n",
    "    loss = calc_loss(y_true=y, y_pred=pred)\n",
    "    return loss\n",
    "\n",
    "\n",
    "for poly_power in [1,2,3,4,5,6,7,8]:\n",
    "    loss = calc_experiment_sklearn(X,y,poly_power=poly_power)\n",
    "    print(f\"Poly: {poly_power}; loss: {loss}\")"
   ]
  },
  {
   "cell_type": "markdown",
   "id": "64dbab69",
   "metadata": {},
   "source": [
    "### 2. Аналитическая формула"
   ]
  },
  {
   "cell_type": "code",
   "execution_count": 21,
   "id": "3591e9d8",
   "metadata": {},
   "outputs": [
    {
     "name": "stdout",
     "output_type": "stream",
     "text": [
      "Poly: 1; l2: 0.0; loss: 8.143487967626172\n",
      "Poly: 1; l2: 0.1; loss: 8.143488412676028\n",
      "Poly: 1; l2: 0.5; loss: 8.143490192837076\n",
      "Poly: 1; l2: 1; loss: 8.143492417952059\n",
      "Poly: 1; l2: 10; loss: 8.143532453622413\n",
      "Poly: 2; l2: 0.0; loss: 8.126466126585333\n",
      "Poly: 2; l2: 0.1; loss: 8.126466531604855\n",
      "Poly: 2; l2: 0.5; loss: 8.126468151653075\n",
      "Poly: 2; l2: 1; loss: 8.126470176646134\n",
      "Poly: 2; l2: 10; loss: 8.126506613750777\n",
      "Poly: 3; l2: 0.0; loss: 8.119632309749479\n",
      "Poly: 3; l2: 0.1; loss: 8.119632680008007\n",
      "Poly: 3; l2: 0.5; loss: 8.119634161017066\n",
      "Poly: 3; l2: 1; loss: 8.119636012222017\n",
      "Poly: 3; l2: 10; loss: 8.119669323198428\n",
      "Poly: 4; l2: 0.0; loss: 7.803914664687208\n",
      "Poly: 4; l2: 0.1; loss: 7.803913950524711\n",
      "Poly: 4; l2: 0.5; loss: 7.803911093987702\n",
      "Poly: 4; l2: 1; loss: 7.803907523570626\n",
      "Poly: 4; l2: 10; loss: 7.803843304319074\n",
      "Poly: 5; l2: 0.0; loss: 7.782523560095234\n",
      "Poly: 5; l2: 0.1; loss: 7.782522831665295\n",
      "Poly: 5; l2: 0.5; loss: 7.782519918064146\n",
      "Poly: 5; l2: 1; loss: 7.782516276329543\n",
      "Poly: 5; l2: 10; loss: 7.782450775762936\n",
      "Poly: 6; l2: 0.0; loss: 7.757950005048106\n",
      "Poly: 6; l2: 0.1; loss: 7.75794926414457\n",
      "Poly: 6; l2: 0.5; loss: 7.757946300651985\n",
      "Poly: 6; l2: 1; loss: 7.7579425965598\n",
      "Poly: 6; l2: 10; loss: 7.757875974833122\n",
      "Poly: 7; l2: 0.0; loss: 6.6626278015121025\n",
      "Poly: 7; l2: 0.1; loss: 6.662638002214556\n",
      "Poly: 7; l2: 0.5; loss: 6.662678800740556\n",
      "Poly: 7; l2: 1; loss: 6.662729789261633\n",
      "Poly: 7; l2: 10; loss: 6.66364575556356\n",
      "Poly: 8; l2: 0.0; loss: 6.638308072201176\n",
      "Poly: 8; l2: 0.1; loss: 6.63831795968769\n",
      "Poly: 8; l2: 0.5; loss: 6.638357505823811\n",
      "Poly: 8; l2: 1; loss: 6.6384069299240025\n",
      "Poly: 8; l2: 10; loss: 6.639294939528346\n"
     ]
    }
   ],
   "source": [
    "def complex_linear_regression(X, y, l2=0.0):\n",
    "    X_H = np.conj(X.T)\n",
    "    I = np.eye(X.shape[1])\n",
    "    w = np.linalg.inv(X_H @ X + l2 * I) @ X_H @ y\n",
    "    return w\n",
    "\n",
    "\n",
    "def calc_experiment_analytical(X, y, poly_power, l2=0.0):\n",
    "    X = create_poly_features(X, poly_power)\n",
    "\n",
    "    w = complex_linear_regression(X, y, l2=l2)\n",
    "\n",
    "    pred = X @ w\n",
    "\n",
    "    loss = calc_loss(y_true=y, y_pred=pred)\n",
    "    return loss\n",
    "\n",
    "\n",
    "for poly_power in [1, 2, 3, 4, 5, 6, 7, 8]:\n",
    "    for l2 in [0.0,0.1,0.5,1,10]:\n",
    "        loss = calc_experiment_analytical(X, y, poly_power=poly_power, l2=l2)\n",
    "        print(f\"Poly: {poly_power}; l2: {l2}; loss: {loss}\")"
   ]
  },
  {
   "cell_type": "markdown",
   "id": "51ec5576",
   "metadata": {},
   "source": [
    "Так тоже не получается"
   ]
  }
 ],
 "metadata": {
  "kernelspec": {
   "display_name": "nlp3.10",
   "language": "python",
   "name": "python3"
  },
  "language_info": {
   "codemirror_mode": {
    "name": "ipython",
    "version": 3
   },
   "file_extension": ".py",
   "mimetype": "text/x-python",
   "name": "python",
   "nbconvert_exporter": "python",
   "pygments_lexer": "ipython3",
   "version": "3.10.14"
  }
 },
 "nbformat": 4,
 "nbformat_minor": 5
}
